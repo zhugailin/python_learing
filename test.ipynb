{
 "cells": [
  {
   "cell_type": "markdown",
   "metadata": {},
   "source": [
    "## Python中Gevent的使用\n",
    "1、可以通过gevent轻松实现并发同步或异步编程。gevent中使用的主要模式是Greenlet，它是以C扩展模块的形式访问Python的轻量级协程。\n",
    "2、Greenlet全部运行在主程序操作系统的过程中，但是它们是协作调度的。"
   ]
  },
  {
   "cell_type": "code",
   "execution_count": null,
   "metadata": {},
   "outputs": [],
   "source": [
    "from gevent import monkey # 为了能识别time模块的io\n",
    "monkey.patch_all()  #必须放到被打补丁者的前面，如 time，socket 模块之前\n",
    "import gevent\n",
    "from time import time,sleep\n",
    "def gf(name):\n",
    "    print(f'{name}:我想打王者！！')\n",
    "    # gevent.sleep(2)\n",
    "    sleep(0)\n",
    "    print(f'{name}:我想吃大餐！！！')\n",
    " \n",
    "def bf(name):\n",
    "    print(f'{name}:一起打！！！')\n",
    "    # gevent.sleep(2)\n",
    "    sleep(0)\n",
    "    print(f'{name}:一快去吃！！')\n",
    " \n",
    "if __name__ == \"__main__\":\n",
    "    start = time()\n",
    "    # 创建协程对象\n",
    "    g1 = gevent.spawn(gf,'貂蝉')\n",
    "    g2 = gevent.spawn(bf,'吕布')\n",
    " \n",
    "    # 开启任务\n",
    "    g1.join()\n",
    "    g2.join()\n",
    "    end = time()\n",
    "    print(end-start)"
   ]
  },
  {
   "cell_type": "markdown",
   "metadata": {},
   "source": []
  },
  {
   "cell_type": "code",
   "execution_count": null,
   "metadata": {},
   "outputs": [],
   "source": []
  }
 ],
 "metadata": {
  "interpreter": {
   "hash": "767d51c1340bd893661ea55ea3124f6de3c7a262a8b4abca0554b478b1e2ff90"
  },
  "kernelspec": {
   "display_name": "Python 3.6.9 64-bit",
   "language": "python",
   "name": "python3"
  },
  "language_info": {
   "name": "python",
   "version": "3.6.9"
  },
  "orig_nbformat": 4
 },
 "nbformat": 4,
 "nbformat_minor": 2
}
